{
 "cells": [
  {
   "metadata": {},
   "cell_type": "raw",
   "source": "import requests",
   "id": "414c88388de0dab1"
  },
  {
   "metadata": {},
   "cell_type": "code",
   "outputs": [],
   "execution_count": null,
   "source": "test_items = ['black pants']",
   "id": "db2aab613389457d"
  },
  {
   "metadata": {},
   "cell_type": "code",
   "outputs": [],
   "execution_count": null,
   "source": [
    "# you need to SSH into the machine and map your port 5000 to the machine's 5000\n",
    "# ssh -L ${LOCAL_PORT}:localhost:${REMOTE_PORT} ${REMOTE_USER}@${REMOTE_HOST}\n",
    "service_url = 'http://localhost:5000/requests'"
   ],
   "id": "902a1b438e8e8833"
  },
  {
   "metadata": {},
   "cell_type": "code",
   "outputs": [],
   "execution_count": null,
   "source": [
    "results = {}\n",
    "for item in test_items:\n",
    "    response = requests.post(service_url, json={'query': item})\n",
    "    results[item] = response.json()"
   ],
   "id": "72a0574f91a96794"
  }
 ],
 "metadata": {
  "kernelspec": {
   "display_name": "Python 3",
   "language": "python",
   "name": "python3"
  },
  "language_info": {
   "codemirror_mode": {
    "name": "ipython",
    "version": 2
   },
   "file_extension": ".py",
   "mimetype": "text/x-python",
   "name": "python",
   "nbconvert_exporter": "python",
   "pygments_lexer": "ipython2",
   "version": "2.7.6"
  }
 },
 "nbformat": 4,
 "nbformat_minor": 5
}
